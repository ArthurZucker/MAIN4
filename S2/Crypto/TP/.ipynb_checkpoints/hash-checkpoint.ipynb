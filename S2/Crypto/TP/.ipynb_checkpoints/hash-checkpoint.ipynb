{
 "cells": [
  {
   "cell_type": "code",
   "execution_count": 133,
   "metadata": {},
   "outputs": [
    {
     "name": "stdout",
     "output_type": "stream",
     "text": [
      "PAP login successful. Access to /home/wilkinsonethan granted.\n",
      "CHAP login successful. Access to /home/wilkinsonethan granted.\n"
     ]
    }
   ],
   "source": [
    "from client import *\n",
    "from openssl import *\n",
    "from hashlib import sha256, md5\n",
    "import random\n",
    "import base64\n",
    "c = Connection()\n",
    "print(c.post(\"/bin/login\",user=\"wilkinsonethan\",password=\"!r3YPa7u#&\"))\n",
    "log  = c.get(\"/bin/login/CHAP\")\n",
    "plaintext = \"wilkinsonethan\" + \"-\" + log['challenge']\n",
    "response = encrypt(plaintext,\"!r3YPa7u#&\")\n",
    "print(c.post(\"/bin/login/CHAP\",user = \"wilkinsonethan\",response = response))\n",
    "c.post(\"/bin/jukebox/disable\")\n",
    "c.post(\"/bin/jukebox/stop\")\n",
    "\"\"\"\n",
    "password = \"means\"\n",
    "username = \"shane90\"\n",
    "log  = c.get(\"/bin/login/CHAP\")\n",
    "plaintext = username + \"-\" + log['challenge']\n",
    "response = encrypt(plaintext,password)\n",
    "print(c.post(\"/bin/login/CHAP\",user = username,response = response))\"\"\"\n",
    "\n",
    "\n",
    "def get_stp(K,adess):\n",
    "        dict = {'method':'GET','url':adess}\n",
    "        jdict =json.dumps(dict)\n",
    "        enc_jdict = encrypt(jdict,K)\n",
    "        response = c.post_raw(\"/bin/gateway\",base64.b64decode(enc_jdict))\n",
    "        return(decrypt_b64(response,K))\n",
    "\n",
    "\n",
    "\n",
    "def post_stp(K,adress,args):\n",
    "        dict = {'method':'POST','url':adress,'args':args}\n",
    "        jdict =json.dumps(dict)\n",
    "        enc_jdict = encrypt(jdict,K)\n",
    "        response = c.post_raw(\"/bin/gateway\",base64.b64decode(enc_jdict))\n",
    "        return(decrypt_b64(response,K))\n",
    "def start_stp(K):\n",
    "    test1 = \"/bin/login/stp/handshake\"\n",
    "    dict = {'method':'GET','url':test1}\n",
    "    jdict =json.dumps(dict)\n",
    "    enc_jdict = encrypt(jdict,K)\n",
    "    response = c.post_raw(\"/bin/gateway\",base64.b64decode(enc_jdict))"
   ]
  },
  {
   "cell_type": "code",
   "execution_count": 134,
   "metadata": {},
   "outputs": [
    {
     "name": "stdout",
     "output_type": "stream",
     "text": [
      "Lors d'une opération routinière d'inspection des logs du système, un admin a\n",
      "découvert que le programme /bin/fsck avait parfois un comportement surprenant.\n",
      "Un extrait du log suspect se trouve en pièce-jointe (id=\"log\").\n",
      "\n",
      "Le programme /bin/fsck a manifestement été modifié de manière non-autorisée.\n",
      "Ceci est très inquiétant car seuls des utilisateurs possédants un niveau de\n",
      "privilège très élevé ont le droit de modifier des exécutables du système.\n",
      "\n",
      "Tout ceci devient encore plus mystérieux et plus grave si on y ajoute le fait\n",
      "que c'est shane90 qui a lancé /bin/fsck. Notre hypothèse de travail\n",
      "actuelle est que shane90 cherchait à provoquer le déclenchement du code\n",
      "malicieux, mais nous ne savons pas encore pourquoi.\n",
      "\n",
      "Deux équipes vont travailler en parallèle : d'une part, l'équipe de retro-\n",
      "conception se charge d'examiner le fichier /bin/fsck. Une étude préliminaire \n",
      "montre le code a été obfusqué avec des méthodes cryptographiques, donc il ne va\n",
      "pas y avoir de résultats rapides. \n",
      "\n",
      "D'autre part, **VOUS** allez enquêter à partir des logs. Votre objectif \n",
      "principal est de déterminer le rôle du code suspect injecté dans /bin/fsck. \n",
      "L'objectif secondaire consiste à cerner les motivations de shane90.\n",
      "\n",
      "Bien sûr, il faut avoir les privilèges d'administrations pour lancer /bin/fsck,\n",
      "et bien sûr il est hors de question qu'on les octroie officiellement à un \n",
      "vulgaire consultant comme vous. Mais vous saurez bien vous débrouiller. C'est\n",
      "pour ça qu'on vous a embauché.\n",
      "\n",
      "Votre tâche sera terminée lorsque vous aurez réussi à provoquer le déclenchement\n",
      "complet du code suspect, ce qui nous permettra de l'examiner plus facilement.\n",
      "Vous pourrez alors fermer le ticket.\n",
      "\n",
      "Vous avez aussi accès à la base de connaissance accumulée par vos prédécésseurs \n",
      "(id = \"indication-[01234]\").\n",
      "----\n",
      "[---REDACTED---], CLEA director\n",
      "\"Don't break the (cyber-)law\"\n",
      "fsck from UGLIX-util 2.20.1\n",
      "ufsck 1.42 (29-Nov-18011)\n",
      "/dev/flash0 contains a (clean) UglFS file system, manual check forced.\n",
      "Pass 1 : Checking unodes, blocks, and sizes\n",
      "Pass 2 : Checking (blocks vs files) maximum-flow\n",
      "Pass 3 : Checking that block subgraph contains a (large) independent set\n",
      "Pass 4 : Checking longest cycle in file subgraph\n",
      "Pass 5 : Checking 3-colorability of dual file graph\n",
      "Pass 6 : Checking for file deduplication issues\n",
      "WARNING: Non-deduplicated files found\n",
      "    [starting problem resolution routine]\n",
      "    [MD5(/home/shane90/foo.bin) == MD5(/home/shane90/bar.bin)]\n",
      "    [Files with identical hash detected: full check forced]\n",
      "    [Comparing files...]\n",
      "    ---> files are different\n",
      "    ---> hash collision detected (probability 0.0000000000000000000000000001)\n",
      "    ---> FSCK PANIC: UNRECOVERABLE ERROR. BYE BYE\n",
      "        [EMERG*************************************************************** \n",
      "              *** Exception handler rerouted. P4wnV1rU$ starting          ***\n",
      "              *** Oooh, colliding files. Interesting...                   ***\n",
      "              *** Checking trigger conditions                             ***\n",
      "              *** 1. Number of files with identical hash: 2 (not enough)  ***\n",
      "              *** 2. Files begin with username: OK                        ***\n",
      "              *** 3. Files end with \"h4ck m0d3\": OK                       ***\n",
      "              *** Trigger conditions NOT met. Payload not launched.       ***\n",
      "              *** REASON : at least 4 colliding files must be present     ***\n",
      "              *** fsck call stack modified, exception handler cancelled   ***\n",
      "              *** P4wnV1rU$, out. See y0u n3*t t1m3                       ***\n",
      "              ***************************************************************\n",
      "              ENCY SHUTDOWN]\n",
      "        [SHUTDOWN ABORTED: why was I doing this?]\n",
      "        [recovered from error: \"UNRECOVERABLE ERROR\". Ending panic]\n",
      "    [deduplication issue resolved. Resuming fsck]\n",
      "fsck completed successfully.\n",
      "Pour s'en sortir dans ce ticket, il faut absolument visualier le principe\n",
      "général de fonctionnement de la fonction de hachage : la fonction de compression\n",
      "traite les blocs de message les uns après les autres.\n",
      "\n",
      "Plus précisément, le message à hacher s'écrit M = M_0 || M_1 || M_2 || ...\n",
      "et on pose :\n",
      "\n",
      "    h[-1]  = IV\n",
      "    h[i+1] = F(h[i], M_i)\n",
      "\n",
      "La dernière valeur h[] produite est l'empreinte du message M.\n",
      "\n",
      "Dans ces indications, on note :\n",
      "\n",
      "     [h_1] ---X----> [h_2]\n",
      "\n",
      "pour indiquer que, partant de l'état interne h_1, le fait de traiter la séquence\n",
      "de blocs X aboutit à un nouvel état interne h_2.\n",
      "Le programme de recherche de collision fonctionne de la façon suivante : \n",
      "\n",
      "*) Il lit un \"fichier préfixe\" (éventuellement vide), dont la taille doit être\n",
      "   un multiple de la taille des blocs.\n",
      "\n",
      "*) Le préfixe est haché, ce qui aboutit à une valeur de l'état interne h_prefix:\n",
      "\n",
      "    [IV] ---Prefix---> [h_prefix] \n",
      "\n",
      "\n",
      "*) A partir de là, un algorithme de recherche de collision est lancé. Cet\n",
      "   algorithme produit deux séquences de deux blocs chacunes, (A_0, A_1) et\n",
      "   (B_0, B_1), avec la propriété suivante :\n",
      "\n",
      "   h_prefix ---A_0---> ??? ---A_1---> h_coll\n",
      "   h_prefix ---B_0---> ??? ---B_1---> h_coll\n",
      "\n",
      "Du coup, on a la collision :\n",
      "\n",
      "    MD5(prefixe || A) == MD5(prefixe || B).\n",
      "\n",
      "Mais notez que l'utilitaire n'inclut pas automatiquement le prefixe dans les\n",
      "deux fichiers qu'il produit.\n",
      "Pour mettre son nom d'utilisateur au début, il suffit de produire un préfixe (de\n",
      "la bonne taille) qui commence par son nom d'utilisateur, et qui finisse par\n",
      "n'importe quoi.\n",
      "Pour mettre \"h4ckm0d3\" à la fin, ce n'est pas beaucoup plus compliqué. L'astuce,\n",
      "c'est qu'une fois qu'on a deux messages qui collisionnent, on peut les recycler\n",
      "en rajoutant ce qu'on veut après.\n",
      "\n",
      "En effet, on a :\n",
      "\n",
      "    [IV] ---Prefix---> [h_prefix] ---A_0---> ??? ---A_1---> [h_coll]\n",
      "    [IV] ---Prefix---> [h_prefix] ---B_0---> ??? ---B_1---> [h_coll]\n",
      "\n",
      "Comme, de façon bien commode, les chaines : (Prefix||A) et (Prefix||B) ont une\n",
      "taille qui est un multiple de la taille du bloc, tout ce qu'on pourrait rajouter\n",
      "après va aller dans un nouveau bloc, et ne va donc pas perturber la collision :\n",
      "\n",
      "    [IV] ---Prefix---> [h_prefix] ---A---> [h_coll] ---Suffix---> [h_suffix]\n",
      "    [IV] ---Prefix---> [h_prefix] ---B---> [h_coll] ---Suffix---> [h_suffix]\n",
      "\n",
      "Notez que le mécanisme de paddign va entrer en action dans le suffixe, mais que\n",
      "ce n'est pas un problème.\n",
      "La partie un peu plus délicate consiste à produire non pas DEUX fichiers qui\n",
      "collisionnent, mais QUATRE. Pour cela, il faut utiliser la technique suivante,\n",
      "inventée par Antoine Joux en 2004.\n",
      "\n",
      "Partant d'une valeur de l'état interne quelconque (disons h_0), on trouve une\n",
      "première collision :\n",
      "\n",
      "    [h_0] ---A---> [h_1]\n",
      "    [h_0] ---B---> [h_1]\n",
      "\n",
      "Puis, partant de h_1, on trouve une deuxième collision :\n",
      "\n",
      "    [h_1] ---C---> [h_2]\n",
      "    [h_1] ---D---> [h_2]\n",
      "\n",
      "On a donc :\n",
      "\n",
      "    [h_0] ---A---> [h_1] ---C---> [h_2]\n",
      "    [h_0] ---A---> [h_1] ---D---> [h_2]\n",
      "    [h_0] ---B---> [h_1] ---C---> [h_2]\n",
      "    [h_0] ---B---> [h_1] ---D---> [h_2]\n",
      "\n",
      "Partant de l'état interne h_0, on a obtenu 4 séquences de 4 blocs qui\n",
      "aboutissent au même état interne h_2 : AC, AD, BC, BD.\n",
      "\n",
      "Concrètement, h_0 est l'état interne obtenu après avoir traité le préfixe.\n",
      "Pour que l'utilitaire de recherche de collision cherche une collision à partir\n",
      "de h_1, il faut lui donner un nouveau préfixe qui aboutisse à h_1. On peut lui\n",
      "donner, par exemple, (Prefix||A).\n",
      "\n",
      "Une fois qu'on a obtenu la 4-collision, on peut rajouter \"h4ckm0d3\" à la fin des\n",
      "4 messages qui collisionnent.\n"
     ]
    }
   ],
   "source": [
    "nonce = c.post(\"/bin/login/stp\",username=\"wilkinsonethan\")\n",
    "K = \"!r3YPa7u#&\"+'-'+nonce\n",
    "start_stp(K)\n",
    "print(get_stp(K,\"/bin/police_hq/ticket/1832\"))\n",
    "print(get_stp(K,\"/bin/police_hq/ticket/1832/attachment/log\"))\n",
    "print(get_stp(K,\"/bin/police_hq/ticket/1832/attachment/indication-0\"))\n",
    "print(get_stp(K,\"/bin/police_hq/ticket/1832/attachment/indication-1\"))\n",
    "print(get_stp(K,\"/bin/police_hq/ticket/1832/attachment/indication-2\"))\n",
    "print(get_stp(K,\"/bin/police_hq/ticket/1832/attachment/indication-3\"))\n",
    "print(get_stp(K,\"/bin/police_hq/ticket/1832/attachment/indication-4\"))"
   ]
  },
  {
   "cell_type": "code",
   "execution_count": 135,
   "metadata": {},
   "outputs": [],
   "source": [
    "#[MD5(/home/shane90/foo.bin) == MD5(/home/shane90/bar.bin)]\n",
    "#[Files with identical hash detected: full check forced]\n",
    "#1. Number of files with identical hash: 2 (not enough\n",
    "#2. Files begin with username: OK                        ***\n",
    "#3. Files end with \"h4ck m0d3\": OK"
   ]
  },
  {
   "cell_type": "code",
   "execution_count": 172,
   "metadata": {},
   "outputs": [
    {
     "ename": "SyntaxError",
     "evalue": "EOL while scanning string literal (<ipython-input-172-e51b529b0e0b>, line 14)",
     "output_type": "error",
     "traceback": [
      "\u001b[0;36m  File \u001b[0;32m\"<ipython-input-172-e51b529b0e0b>\"\u001b[0;36m, line \u001b[0;32m14\u001b[0m\n\u001b[0;31m    os.system(\"cat  ./md5_collider/output1.bin ./md5_collider/output4.bin ./md5_collider/suffixe.bin > ./md5_collider/finale2.bin\"\")\u001b[0m\n\u001b[0m                                                                                                                                    ^\u001b[0m\n\u001b[0;31mSyntaxError\u001b[0m\u001b[0;31m:\u001b[0m EOL while scanning string literal\n"
     ]
    }
   ],
   "source": [
    "file1 \n",
    "file2\n",
    "file3\n",
    "file4\n",
    "with open(\"./md5_collider/suffixe.bin\",\"wb\") as f:\n",
    "    suf = base64.b64encode(\"c\".encode('utf-8'))*(512-9)\n",
    "    suf += base64.b64encode(\"h4ck m0d3\".encode('utf-8'))\n",
    "    file1 = f.write(suf)\n",
    "os.system(\"./md5_collider/coll_finder ./md5_collider/prefixe2.bin ./md5_collider/output1.bin ./md5_collider/output2.bin\")\n",
    "os.system(\"cat ./md5_collider/prefixe2.bin ./md5_collider/output1.bin ./md5_collider/prefixe3.bin\")\n",
    "os.system(\"./md5_collider/coll_finder ./md5_collider/prefixe2.bin ./md5_collider/output3.bin ./md5_collider/output4.bin\")\n",
    "os.system(\"cat ./md5_collider/output1.bin ./md5_collider/prefixe3.bin\")\n",
    "os.system(\"cat  ./md5_collider/output1.bin ./md5_collider/output3.bin ./md5_collider/suffixe.bin > ./md5_collider/finale1.bin\")\n",
    "os.system(\"cat  ./md5_collider/output1.bin ./md5_collider/output4.bin ./md5_collider/suffixe.bin > ./md5_collider/finale2.bin\"\")\n",
    "os.system(\"cat  ./md5_collider/output2.bin ./md5_collider/output4.bin ./md5_collider/suffixe.bin > ./md5_collider/finale3.bin\"\")\n",
    "os.system(\"cat  ./md5_collider/output2.bin ./md5_collider/output3.bin ./md5_collider/suffixe.bin > ./md5_collider/finale4.bin\"\")"
   ]
  },
  {
   "cell_type": "code",
   "execution_count": 171,
   "metadata": {},
   "outputs": [
    {
     "ename": "FileNotFoundError",
     "evalue": "[Errno 2] No such file or directory: './md5_collider/output1.bin'",
     "output_type": "error",
     "traceback": [
      "\u001b[0;31m---------------------------------------------------------------------------\u001b[0m",
      "\u001b[0;31mFileNotFoundError\u001b[0m                         Traceback (most recent call last)",
      "\u001b[0;32m<ipython-input-171-9b5ab08eebb3>\u001b[0m in \u001b[0;36m<module>\u001b[0;34m\u001b[0m\n\u001b[0;32m----> 1\u001b[0;31m \u001b[0;32mwith\u001b[0m \u001b[0mopen\u001b[0m\u001b[0;34m(\u001b[0m\u001b[0;34m\"./md5_collider/output1.bin\"\u001b[0m\u001b[0;34m,\u001b[0m\u001b[0;34m\"rb\"\u001b[0m\u001b[0;34m)\u001b[0m \u001b[0;32mas\u001b[0m \u001b[0mf\u001b[0m\u001b[0;34m:\u001b[0m\u001b[0;34m\u001b[0m\u001b[0;34m\u001b[0m\u001b[0m\n\u001b[0m\u001b[1;32m      2\u001b[0m     \u001b[0mfile1\u001b[0m \u001b[0;34m=\u001b[0m \u001b[0mf\u001b[0m\u001b[0;34m.\u001b[0m\u001b[0mread\u001b[0m\u001b[0;34m(\u001b[0m\u001b[0;34m)\u001b[0m\u001b[0;34m\u001b[0m\u001b[0;34m\u001b[0m\u001b[0m\n\u001b[1;32m      3\u001b[0m \u001b[0;32mwith\u001b[0m \u001b[0mopen\u001b[0m\u001b[0;34m(\u001b[0m\u001b[0;34m\"./md5_collider/output2.bin\"\u001b[0m\u001b[0;34m,\u001b[0m\u001b[0;34m\"rb\"\u001b[0m\u001b[0;34m)\u001b[0m \u001b[0;32mas\u001b[0m \u001b[0mf\u001b[0m\u001b[0;34m:\u001b[0m\u001b[0;34m\u001b[0m\u001b[0;34m\u001b[0m\u001b[0m\n\u001b[1;32m      4\u001b[0m     \u001b[0mfile2\u001b[0m \u001b[0;34m=\u001b[0m \u001b[0mf\u001b[0m\u001b[0;34m.\u001b[0m\u001b[0mread\u001b[0m\u001b[0;34m(\u001b[0m\u001b[0;34m)\u001b[0m\u001b[0;34m\u001b[0m\u001b[0;34m\u001b[0m\u001b[0m\n\u001b[1;32m      5\u001b[0m \u001b[0;32mwith\u001b[0m \u001b[0mopen\u001b[0m\u001b[0;34m(\u001b[0m\u001b[0;34m\"./md5_collider/output3.bin\"\u001b[0m\u001b[0;34m,\u001b[0m\u001b[0;34m\"rb\"\u001b[0m\u001b[0;34m)\u001b[0m \u001b[0;32mas\u001b[0m \u001b[0mf\u001b[0m\u001b[0;34m:\u001b[0m\u001b[0;34m\u001b[0m\u001b[0;34m\u001b[0m\u001b[0m\n",
      "\u001b[0;31mFileNotFoundError\u001b[0m: [Errno 2] No such file or directory: './md5_collider/output1.bin'"
     ]
    }
   ],
   "source": [
    "with open(\"./md5_collider/finale1.bin\",\"rb\") as f:\n",
    "    file1 = f.read()\n",
    "with open(\"./md5_collider/finale2.bin\",\"rb\") as f:\n",
    "    file2 = f.read()\n",
    "with open(\"./md5_collider/finale3.bin\",\"rb\") as f:\n",
    "    file3 = f.read()\n",
    "with open(\"./md5_collider/finale4.bin\",\"rb\") as f:\n",
    "    file4 = f.read()\n",
    "    "
   ]
  },
  {
   "cell_type": "code",
   "execution_count": 158,
   "metadata": {},
   "outputs": [
    {
     "ename": "UnicodeDecodeError",
     "evalue": "'utf-8' codec can't decode byte 0x83 in position 1: invalid start byte",
     "output_type": "error",
     "traceback": [
      "\u001b[0;31m---------------------------------------------------------------------------\u001b[0m",
      "\u001b[0;31mUnicodeDecodeError\u001b[0m                        Traceback (most recent call last)",
      "\u001b[0;32m<ipython-input-158-24f642e3fdb0>\u001b[0m in \u001b[0;36m<module>\u001b[0;34m\u001b[0m\n\u001b[0;32m----> 1\u001b[0;31m \u001b[0mfile1\u001b[0m\u001b[0;34m.\u001b[0m\u001b[0mdecode\u001b[0m\u001b[0;34m(\u001b[0m\u001b[0;34m)\u001b[0m\u001b[0;34m\u001b[0m\u001b[0;34m\u001b[0m\u001b[0m\n\u001b[0m",
      "\u001b[0;31mUnicodeDecodeError\u001b[0m: 'utf-8' codec can't decode byte 0x83 in position 1: invalid start byte"
     ]
    }
   ],
   "source": [
    "i= \"h4ck m0d3\""
   ]
  },
  {
   "cell_type": "code",
   "execution_count": 163,
   "metadata": {},
   "outputs": [],
   "source": []
  },
  {
   "cell_type": "code",
   "execution_count": 166,
   "metadata": {},
   "outputs": [
    {
     "data": {
      "text/plain": [
       "'96c8bed69570b6e071f8daa85afb1722'"
      ]
     },
     "execution_count": 166,
     "metadata": {},
     "output_type": "execute_result"
    }
   ],
   "source": []
  },
  {
   "cell_type": "code",
   "execution_count": 167,
   "metadata": {},
   "outputs": [
    {
     "data": {
      "text/plain": [
       "'fadeb3cf1af4e3252e6c837774d5e401'"
      ]
     },
     "execution_count": 167,
     "metadata": {},
     "output_type": "execute_result"
    }
   ],
   "source": []
  },
  {
   "cell_type": "code",
   "execution_count": null,
   "metadata": {},
   "outputs": [],
   "source": []
  }
 ],
 "metadata": {
  "kernelspec": {
   "display_name": "Python 3",
   "language": "python",
   "name": "python3"
  },
  "language_info": {
   "codemirror_mode": {
    "name": "ipython",
    "version": 3
   },
   "file_extension": ".py",
   "mimetype": "text/x-python",
   "name": "python",
   "nbconvert_exporter": "python",
   "pygments_lexer": "ipython3",
   "version": "3.7.3"
  }
 },
 "nbformat": 4,
 "nbformat_minor": 2
}

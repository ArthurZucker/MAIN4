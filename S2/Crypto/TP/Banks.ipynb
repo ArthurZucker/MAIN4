{
 "cells": [
  {
   "cell_type": "code",
   "execution_count": 27,
   "metadata": {},
   "outputs": [],
   "source": [
    "from client import *\n",
    "from openssl import *\n",
    "from hashlib import sha256\n",
    "import random\n",
    "import base64\n",
    "PIERRE = 0x504945525245\n",
    "pierre = 88275625857605\n",
    "FEUILLE =0x464555494C4C45\n",
    "feuille =19779480974019653\n",
    "CISEAUX  =0x43495345415558\n",
    "ciseaux = 18939445432636760\n",
    "\n",
    "deci = {\"PIERRE\":0x504945525245,\n",
    "        \"FEUILLE\":0x464555494C4C45,\n",
    "        \"CISEAUX\":0x43495345415558,\n",
    "}\n",
    "\n",
    "def generate_elGamal_key(key):\n",
    "    p = int('FFFFFFFFFFFFFFFFC90FDAA22168C234C4C6628B80DC1CD1'\n",
    "            '29024E088A67CC74020BBEA63B139B22514A08798E3404DD'\n",
    "            'EF9519B3CD3A431B302B0A6DF25F14374FE1356D6D51C245'\n",
    "            'E485B576625E7EC6F44C42E9A637ED6B0BFF5CB6F406B7ED'\n",
    "            'EE386BFB5A899FA5AE9F24117C4B1FE649286651ECE45B3D'\n",
    "            'C2007CB8A163BF0598DA48361C55D39A69163FA8FD24CF5F'\n",
    "            '83655D23DCA3AD961C62F356208552BB9ED529077096966D'\n",
    "            '670C354E4ABC9804F1746C08CA237327FFFFFFFFFFFFFFFF', base=16)\n",
    "    g = 2\n",
    "    h = pow(g,int(random.uniform(300,50000)))%p\n",
    "    try:\n",
    "        k = post_stp(key,\"/bin/banks/assistant/start\",{'p':p,'g':g,'h':h})\n",
    "        print(k)\n",
    "    except Exception as e:\n",
    "        print(decrypt_b64(e.msg,key))\n",
    "\n",
    "    return(p,g,h,k)\n",
    "\n",
    "\n",
    "def round_pfc(key):\n",
    "    dict = get_stp(key,\"bin/banks/assistant/round\")\n",
    "    return dict\n",
    "\n",
    "def send_gage(coup,key,g,p,h):\n",
    "    coup = deci[coup]\n",
    "    y = int(random.uniform(0,500))%p\n",
    "    a = pow(g,y) % p\n",
    "    b = (coup * pow(h,y)) % p\n",
    "    try:\n",
    "        dict = post_stp(key,\"/bin/banks/assistant/move\",{'a':a,'b':b})\n",
    "    except Exception as e:\n",
    "        print(decrypt_b64(e.msg,key))\n",
    "        raise\n",
    "    return dict,y\n",
    "\n",
    "\n",
    "def outcome(coup,key,y):\n",
    "    move = coup.encode('ascii')\n",
    "    try:\n",
    "        adv_coup = post_stp(key,\"/bin/banks/assistant/outcome\",{'move':move,'y':y})\n",
    "    except Exception as e:\n",
    "        print(decrypt_b64(e.msg,key))\n",
    "        raise e\n",
    "    return adv_coup\n",
    "\n",
    "def play(key,private_key):\n",
    "    p,g,h,clef = generate_elGamal_key(key)\n",
    "    clef = clef.split(',')\n",
    "    temp = []\n",
    "    for i in clef:\n",
    "        temp.append(int(i.split(':')[1].strip(' ').strip('}')))\n",
    "    print(temp)\n",
    "    try:\n",
    "        dict = round_pfc(key)\n",
    "    except Exception as e:\n",
    "        print(decrypt_b64(e.msg,key))\n",
    "\n",
    "    coup = input(\"Entrez le coup : \")\n",
    "    adv_gage,y = send_gage(coup,key,g,p,h)\n",
    "    dict_outcome = outcome()\n",
    "\n",
    "def get_stp(K,adess):\n",
    "        dict = {'method':'GET','url':adess}\n",
    "        jdict =json.dumps(dict)\n",
    "        enc_jdict = encrypt(jdict,K)\n",
    "        response = c.post_raw(\"/bin/gateway\",base64.b64decode(enc_jdict))\n",
    "        return(decrypt_b64(response,K))\n",
    "\n",
    "\n",
    "\n",
    "def post_stp(K,adress,args):\n",
    "        dict = {'method':'POST','url':adress,'args':args}\n",
    "        jdict =json.dumps(dict)\n",
    "        enc_jdict = encrypt(jdict,K)\n",
    "        response = c.post_raw(\"/bin/gateway\",base64.b64decode(enc_jdict))\n",
    "        return(decrypt_b64(response,K))\n",
    "\n",
    "\n",
    "\n",
    "def dh_auten(username):\n",
    "    k,s = genpkey()\n",
    "    print(c.post(\"/bin/key-management/upload-pk\",public_key = k,confirm=True))\n",
    "    parameters = c.get(\"/bin/login/dh/parameters\")\n",
    "    g = parameters['g']\n",
    "    p = parameters['p']\n",
    "    certificate = c.get(\"/bin/banks/CA\")\n",
    "    x = int(random.uniform(0,500))\n",
    "    A = pow(g,x)%p\n",
    "    dic = c.post(\"/bin/login/dh\",username=username,A = A)\n",
    "    pk = get_pub_cert(certificate)\n",
    "    B = dic['B']\n",
    "    k = dic['k']\n",
    "    S = \"{},{},{},{}\".format(A,B,k,username)\n",
    "    verif = verify_signature(pk,dic['signature'],S)\n",
    "    if(verif == False):\n",
    "        print(\"verification invalide\")\n",
    "        return\n",
    "    AB = pow(B,x)%p\n",
    "    H = sha256()\n",
    "    size = 1 + AB.bit_length() // 8\n",
    "    H.update(AB.to_bytes(size, byteorder='big'))\n",
    "    K = H.hexdigest()\n",
    "    print(K)\n",
    "    adresse = \"/bin/login/dh/confirmation\"\n",
    "    T = \"{},{},{},{}\".format(A,B,k,\"UGLIX\")\n",
    "    signature = sign(T,s)\n",
    "    signature = base64.b64encode(signature).decode()\n",
    "    post_stp(K,adresse,{'signature':signature})\n",
    "    return K,k,s\n"
   ]
  },
  {
   "cell_type": "code",
   "execution_count": 38,
   "metadata": {},
   "outputs": [
    {
     "name": "stdout",
     "output_type": "stream",
     "text": [
      "PAP login successful. Access to /home/wilkinsonethan granted.\n",
      "CHAP login successful. Access to /home/wilkinsonethan granted.\n"
     ]
    },
    {
     "data": {
      "text/plain": [
       "'Music stopped.'"
      ]
     },
     "execution_count": 38,
     "metadata": {},
     "output_type": "execute_result"
    }
   ],
   "source": [
    "c = Connection()\n",
    "print(c.post(\"/bin/login\",user=\"wilkinsonethan\",password=\"!r3YPa7u#&\"))\n",
    "log  = c.get(\"/bin/login/CHAP\")\n",
    "plaintext = \"wilkinsonethan\" + \"-\" + log['challenge']\n",
    "response = encrypt(plaintext,\"!r3YPa7u#&\")\n",
    "print(c.post(\"/bin/login/CHAP\",user = \"wilkinsonethan\",response = response))\n",
    "c.post(\"/bin/jukebox/disable\")\n",
    "c.post(\"/bin/jukebox/stop\")"
   ]
  },
  {
   "cell_type": "code",
   "execution_count": 39,
   "metadata": {},
   "outputs": [
    {
     "name": "stdout",
     "output_type": "stream",
     "text": [
      "CHAP login successful. Access to /home/shane90 granted.\n"
     ]
    }
   ],
   "source": [
    "password = \"means\"\n",
    "username = \"shane90\"\n",
    "log  = c.get(\"/bin/login/CHAP\")\n",
    "plaintext = username + \"-\" + log['challenge']\n",
    "response = encrypt(plaintext,password)\n",
    "print(c.post(\"/bin/login/CHAP\",user = username,response = response))"
   ]
  },
  {
   "cell_type": "code",
   "execution_count": 40,
   "metadata": {},
   "outputs": [
    {
     "name": "stdout",
     "output_type": "stream",
     "text": [
      "OK\n",
      "2c6686ffb5b93a618c8bf5feed3632e1769194f90467ec59ff559d968970a93d\n",
      "La UGLIX Bank est toujours à la recherche de nouveaux talents. Votre candidature\n",
      "nous semble particulièrement prometteuse en tout points. Cependant, il faut que \n",
      "vous sachiez que seuls les meilleurs nous intéressent. C'est pourquoi nous \n",
      "pratiquons un petit... test d'embauche. Oh, c'est presque une formalité. Il \n",
      "s'agit de jouer à \"pierre-feuille-ciseau\" en ligne avec mon assistant.\n",
      "\n",
      "D'ailleurs, je vais vous le présenter tout de suite :\n",
      "\n",
      "ASSISTANT v1.0 : GRRRRRRRRRRRR KILL KILL KILL KILL KILL KILL KILL BWAAAAARRFFFFF\n",
      "\n",
      "Comme vous pouvez le constater, il est en pleine forme. J'aurais préféré qu'il \n",
      "vous explique le jeu lui-même, mais j'ai un peu peur qu'il ne s'en sorte pas.\n",
      "Aussi, je vous redirige vers le fichier :\n",
      "\n",
      "\t/bin/banks/drh/rules\n",
      "\n",
      "Vous devez le battre, puis revenir me voir. Au fait, pour vous aider, vous avez\n",
      "le droit à ça :\n",
      "\n",
      "    BANK.ACCESS:2331:3@375715|67d5baaecd849c0266c971a883aa8090\n",
      "Pour pouvoir jouer en ligne de manière à peu près honnête, le système repose sur\n",
      "un schéma de mise en gage (\"commitment\"). On utilise le chiffrement ElGamal. Les\n",
      "deux joueurs font leur choix, le chiffrent avec leur clef publique, puis \n",
      "s'échangent les chiffrés. Une fois que l'échange a eu lieu, les deux joueurs \n",
      "ouvrent les mises en gage.\n",
      "\n",
      "Comme on ne peut pas très facilement s'échanger les mises en gage de manière\n",
      "asynchrone, un mécanisme aléatoire est mis en place pour savoir qui envoie sa \n",
      "mise en gage le premier.\n",
      "\n",
      "Au départ, les deux joueurs ont 32 points. Chaque défaite fait perdre un point.\n",
      "Le premier qui arrive à zéro a perdu.\n",
      "\n",
      "Les trois coups possibles sont :\n",
      "\n",
      "   ASCII         hexadécimal            décimal\n",
      "-------------------------------------------------------\n",
      "  PIERRE   -->   0x504945525245  -->    88275625857605\n",
      "  FEUILLE  --> 0x464555494C4C45  --> 19779480974019653\n",
      "  CISEAUX  --> 0x43495345415558  --> 18939445432636760\n",
      "\n",
      "\n",
      "Chacun doit fournir une clef Elgamal au début du match, c'est à dire un nombre\n",
      "premier p, un générateur g et un nombre h modulo p. Il est possible (mais pas\n",
      "obligatoire) d'utiliser les paramètres standardisés du \"OAKLEY GROUP 2\" :\n",
      "\n",
      "p = int('FFFFFFFFFFFFFFFFC90FDAA22168C234C4C6628B80DC1CD1'\n",
      "        '29024E088A67CC74020BBEA63B139B22514A08798E3404DD'\n",
      "        'EF9519B3CD3A431B302B0A6DF25F14374FE1356D6D51C245'\n",
      "        'E485B576625E7EC6F44C42E9A637ED6B0BFF5CB6F406B7ED'\n",
      "        'EE386BFB5A899FA5AE9F24117C4B1FE649286651ECE45B3D'\n",
      "        'C2007CB8A163BF0598DA48361C55D39A69163FA8FD24CF5F'\n",
      "        '83655D23DCA3AD961C62F356208552BB9ED529077096966D'\n",
      "        '670C354E4ABC9804F1746C08CA237327FFFFFFFFFFFFFFFF', base=16)\n",
      "g = 2\n",
      "\n",
      "\n",
      "\n",
      "0) Générez une clef publique ElGamal et envoyez \"p\", \"g\" et h\" à l'adresse :\n",
      "\n",
      "       /bin/banks/assistant/start\n",
      "\n",
      "   Vous recevez en échange la clef de votre adversaire.\n",
      "\n",
      "\n",
      "1) Pour faire un \"round\", rendez-vous sur :\n",
      "\n",
      "       /bin/banks/assistant/round\n",
      "\n",
      "   Vous recevez un dictionnaire contenant :\n",
      "       *) soit \"a\" et \"b\" contenant la mise en gage du choix de l'adversaire.\n",
      "       *) soit \"status\" contenant la chaine \"waiting\".\n",
      "\n",
      "   Les deux situations se produisent avec probabilité 50% (en principe).\n",
      "\n",
      "\n",
      "2) Vous devez envoyer une mise en gage de votre coup (\"a\" et \"b\") à l'adresse :\n",
      "\n",
      "        /bin/banks/assistant/move\n",
      "\n",
      "   En gros, il faut choisir un y aléatoire modulo p, calculer a = g^y % p et\n",
      "   b = <coup> * h^y % p (c'est le chiffrement Elgamal de votre coup). S'il ne \n",
      "   vous l'avait pas donnée lors de l'étape 1, l'adversaire vous renvoie la mise\n",
      "   en gage de son coup.\n",
      "\n",
      "\n",
      "3) L'heure de vérité. Connectez-vous à :\n",
      "\n",
      "       /bin/banks/assistant/outcome\n",
      "\n",
      "   Vous devez envoyer un dictionnaire contenant :\n",
      "       *) \"move\"   : votre coup, en ASCII.\n",
      "       *) \"y\"      : le nombre aléatoire utilisé pour produire la mise en gage.\n",
      "\n",
      "   L'adversaire vous renvoie son coup, son nombre aléatoire. L'arbitre notifie \n",
      "   les deux joueurs de l'issue du round, et effectue le décompte des points.\n",
      "\n",
      "\n",
      "4) Si un des joueurs triche manifestement au niveau de la mise en gage, l'autre\n",
      "   peut le dénoncer à l'arbitre en envoyant une requête POST à l'adresse :\n",
      "\n",
      "       /bin/banks/referee\n",
      "\n",
      "   Si c'est justifié, le tricheur est sanctionné d'une pénalité de 3 points. \n",
      "   Sinon, c'est le délateur irresponsable qui sera sanctionné.\n",
      "\n"
     ]
    }
   ],
   "source": [
    "K,k,s = dh_auten(username)\n",
    "print(get_stp(K,\"/bin/banks/drh\"))\n",
    "print(get_stp(K,\"/bin/banks/drh/rules\"))"
   ]
  },
  {
   "cell_type": "code",
   "execution_count": 41,
   "metadata": {},
   "outputs": [
    {
     "name": "stdout",
     "output_type": "stream",
     "text": [
      "{\"h\": 1338854666338551042222525539369668732583492936931643787700793254185665683185203170505781606223675228741146975820724868165893903008188787835603823182733618355554781904698113390558880492889316471132705246912261382509702251425993828777945852349884306938834451341952741957614157222207230334049319890657932643373961997814116920007928840205805935768893109662767194386203482991471308472152210664977349175186987700027293751287039897584962763143138506746423853646997764969, \"p\": 2410312426921032588552076022197566074856950548502459942654116941958108831682612228890093858261341614673227141477904012196503648957050582631942730706805009223062734745341073406696246014589361659774041027169249453200378729434170325843778659198143763193776859869524088940195577346119843545301547043747207749969763750084308926339295559968882457872412993810129130294592999947926365264059284647209730384947211681434464714438488520940127459844288859336526896320919633919, \"g\": 2}\n"
     ]
    }
   ],
   "source": [
    "p,g,h,clef = generate_elGamal_key(K)"
   ]
  },
  {
   "cell_type": "code",
   "execution_count": 42,
   "metadata": {},
   "outputs": [
    {
     "name": "stdout",
     "output_type": "stream",
     "text": [
      "[1338854666338551042222525539369668732583492936931643787700793254185665683185203170505781606223675228741146975820724868165893903008188787835603823182733618355554781904698113390558880492889316471132705246912261382509702251425993828777945852349884306938834451341952741957614157222207230334049319890657932643373961997814116920007928840205805935768893109662767194386203482991471308472152210664977349175186987700027293751287039897584962763143138506746423853646997764969, 2410312426921032588552076022197566074856950548502459942654116941958108831682612228890093858261341614673227141477904012196503648957050582631942730706805009223062734745341073406696246014589361659774041027169249453200378729434170325843778659198143763193776859869524088940195577346119843545301547043747207749969763750084308926339295559968882457872412993810129130294592999947926365264059284647209730384947211681434464714438488520940127459844288859336526896320919633919, 2]\n",
      "uFS filesystem error: bin/banks/assistant/round not found.\n"
     ]
    }
   ],
   "source": [
    "clef2 = clef.split(',')\n",
    "temp = []\n",
    "for i in clef2:\n",
    "    temp.append(int(i.split(':')[1].strip(' ').strip('}')))\n",
    "try:\n",
    "    dict = round_pfc(K)\n",
    "except Exception as e:\n",
    "    print(decrypt_b64(e.msg,K))"
   ]
  },
  {
   "cell_type": "code",
   "execution_count": 43,
   "metadata": {},
   "outputs": [
    {
     "ename": "ServerError",
     "evalue": "ERREUR 404, b\"Salted__\\xcak\\xf5\\xde\\xdc\\xbeF\\xbb\\x14\\xa2\\xaf\\xe9\\x14\\x16\\x88c\\x87\\xb5\\xc6GF\\x98\\rG\\xd0\\xc6+W\\x82\\xc5&\\xea[!\\xb9\\xa8\\x16m\\x94 \\xb2\\xa3\\xe4z\\xda\\xbaj\\xea\\xc7CxH\\xcd9\\x9cp\\xfbUF8=,\\xac\\xa3\\xee\\xd1\\x18|\\x1e\\xca'\\xb9\"",
     "output_type": "error",
     "traceback": [
      "\u001b[0;31m---------------------------------------------------------------------------\u001b[0m",
      "\u001b[0;31mServerError\u001b[0m                               Traceback (most recent call last)",
      "\u001b[0;32m<ipython-input-43-710770294e5e>\u001b[0m in \u001b[0;36m<module>\u001b[0;34m\u001b[0m\n\u001b[0;32m----> 1\u001b[0;31m \u001b[0mprint\u001b[0m\u001b[0;34m(\u001b[0m\u001b[0mget_stp\u001b[0m\u001b[0;34m(\u001b[0m\u001b[0mK\u001b[0m\u001b[0;34m,\u001b[0m\u001b[0;34m\"bin/banks/assistant/round\"\u001b[0m\u001b[0;34m)\u001b[0m\u001b[0;34m)\u001b[0m\u001b[0;34m\u001b[0m\u001b[0;34m\u001b[0m\u001b[0m\n\u001b[0m",
      "\u001b[0;32m<ipython-input-27-e7133eaa825c>\u001b[0m in \u001b[0;36mget_stp\u001b[0;34m(K, adess)\u001b[0m\n\u001b[1;32m     82\u001b[0m         \u001b[0mjdict\u001b[0m \u001b[0;34m=\u001b[0m\u001b[0mjson\u001b[0m\u001b[0;34m.\u001b[0m\u001b[0mdumps\u001b[0m\u001b[0;34m(\u001b[0m\u001b[0mdict\u001b[0m\u001b[0;34m)\u001b[0m\u001b[0;34m\u001b[0m\u001b[0;34m\u001b[0m\u001b[0m\n\u001b[1;32m     83\u001b[0m         \u001b[0menc_jdict\u001b[0m \u001b[0;34m=\u001b[0m \u001b[0mencrypt\u001b[0m\u001b[0;34m(\u001b[0m\u001b[0mjdict\u001b[0m\u001b[0;34m,\u001b[0m\u001b[0mK\u001b[0m\u001b[0;34m)\u001b[0m\u001b[0;34m\u001b[0m\u001b[0;34m\u001b[0m\u001b[0m\n\u001b[0;32m---> 84\u001b[0;31m         \u001b[0mresponse\u001b[0m \u001b[0;34m=\u001b[0m \u001b[0mc\u001b[0m\u001b[0;34m.\u001b[0m\u001b[0mpost_raw\u001b[0m\u001b[0;34m(\u001b[0m\u001b[0;34m\"/bin/gateway\"\u001b[0m\u001b[0;34m,\u001b[0m\u001b[0mbase64\u001b[0m\u001b[0;34m.\u001b[0m\u001b[0mb64decode\u001b[0m\u001b[0;34m(\u001b[0m\u001b[0menc_jdict\u001b[0m\u001b[0;34m)\u001b[0m\u001b[0;34m)\u001b[0m\u001b[0;34m\u001b[0m\u001b[0;34m\u001b[0m\u001b[0m\n\u001b[0m\u001b[1;32m     85\u001b[0m         \u001b[0;32mreturn\u001b[0m\u001b[0;34m(\u001b[0m\u001b[0mdecrypt_b64\u001b[0m\u001b[0;34m(\u001b[0m\u001b[0mresponse\u001b[0m\u001b[0;34m,\u001b[0m\u001b[0mK\u001b[0m\u001b[0;34m)\u001b[0m\u001b[0;34m)\u001b[0m\u001b[0;34m\u001b[0m\u001b[0;34m\u001b[0m\u001b[0m\n\u001b[1;32m     86\u001b[0m \u001b[0;34m\u001b[0m\u001b[0m\n",
      "\u001b[0;32m~/Travail/Polytech/MAIN4/S2/Crypto/TP/client.py\u001b[0m in \u001b[0;36mpost_raw\u001b[0;34m(self, url, data, content_type)\u001b[0m\n\u001b[1;32m    155\u001b[0m         \u001b[0mrequest\u001b[0m \u001b[0;34m=\u001b[0m \u001b[0murllib\u001b[0m\u001b[0;34m.\u001b[0m\u001b[0mrequest\u001b[0m\u001b[0;34m.\u001b[0m\u001b[0mRequest\u001b[0m\u001b[0;34m(\u001b[0m\u001b[0mself\u001b[0m\u001b[0;34m.\u001b[0m\u001b[0m_base\u001b[0m \u001b[0;34m+\u001b[0m \u001b[0murl\u001b[0m\u001b[0;34m,\u001b[0m \u001b[0mmethod\u001b[0m\u001b[0;34m=\u001b[0m\u001b[0;34m'POST'\u001b[0m\u001b[0;34m)\u001b[0m\u001b[0;34m\u001b[0m\u001b[0;34m\u001b[0m\u001b[0m\n\u001b[1;32m    156\u001b[0m         \u001b[0mrequest\u001b[0m\u001b[0;34m.\u001b[0m\u001b[0madd_header\u001b[0m\u001b[0;34m(\u001b[0m\u001b[0;34m'Content-type'\u001b[0m\u001b[0;34m,\u001b[0m \u001b[0mcontent_type\u001b[0m\u001b[0;34m)\u001b[0m\u001b[0;34m\u001b[0m\u001b[0;34m\u001b[0m\u001b[0m\n\u001b[0;32m--> 157\u001b[0;31m         \u001b[0;32mreturn\u001b[0m \u001b[0mself\u001b[0m\u001b[0;34m.\u001b[0m\u001b[0m_query\u001b[0m\u001b[0;34m(\u001b[0m\u001b[0murl\u001b[0m\u001b[0;34m,\u001b[0m \u001b[0mrequest\u001b[0m\u001b[0;34m,\u001b[0m \u001b[0mdata\u001b[0m\u001b[0;34m)\u001b[0m\u001b[0;34m\u001b[0m\u001b[0;34m\u001b[0m\u001b[0m\n\u001b[0m\u001b[1;32m    158\u001b[0m \u001b[0;34m\u001b[0m\u001b[0m\n\u001b[1;32m    159\u001b[0m     \u001b[0;32mdef\u001b[0m \u001b[0mclose_session\u001b[0m\u001b[0;34m(\u001b[0m\u001b[0mself\u001b[0m\u001b[0;34m)\u001b[0m\u001b[0;34m:\u001b[0m\u001b[0;34m\u001b[0m\u001b[0;34m\u001b[0m\u001b[0m\n",
      "\u001b[0;32m~/Travail/Polytech/MAIN4/S2/Crypto/TP/client.py\u001b[0m in \u001b[0;36m_query\u001b[0;34m(self, url, request, data)\u001b[0m\n\u001b[1;32m    223\u001b[0m             \u001b[0mheaders\u001b[0m \u001b[0;34m=\u001b[0m \u001b[0mdict\u001b[0m\u001b[0;34m(\u001b[0m\u001b[0me\u001b[0m\u001b[0;34m.\u001b[0m\u001b[0mheaders\u001b[0m\u001b[0;34m)\u001b[0m\u001b[0;34m\u001b[0m\u001b[0;34m\u001b[0m\u001b[0m\n\u001b[1;32m    224\u001b[0m             \u001b[0mmessage\u001b[0m \u001b[0;34m=\u001b[0m \u001b[0me\u001b[0m\u001b[0;34m.\u001b[0m\u001b[0mread\u001b[0m\u001b[0;34m(\u001b[0m\u001b[0;34m)\u001b[0m\u001b[0;34m\u001b[0m\u001b[0;34m\u001b[0m\u001b[0m\n\u001b[0;32m--> 225\u001b[0;31m             \u001b[0;32mraise\u001b[0m \u001b[0mServerError\u001b[0m\u001b[0;34m(\u001b[0m\u001b[0me\u001b[0m\u001b[0;34m.\u001b[0m\u001b[0mcode\u001b[0m\u001b[0;34m,\u001b[0m \u001b[0mself\u001b[0m\u001b[0;34m.\u001b[0m\u001b[0m_post_process\u001b[0m\u001b[0;34m(\u001b[0m\u001b[0mmessage\u001b[0m\u001b[0;34m,\u001b[0m \u001b[0mheaders\u001b[0m\u001b[0;34m)\u001b[0m\u001b[0;34m)\u001b[0m \u001b[0;32mfrom\u001b[0m \u001b[0;32mNone\u001b[0m\u001b[0;34m\u001b[0m\u001b[0;34m\u001b[0m\u001b[0m\n\u001b[0m\u001b[1;32m    226\u001b[0m \u001b[0;34m\u001b[0m\u001b[0m\n\u001b[1;32m    227\u001b[0m \u001b[0;34m\u001b[0m\u001b[0m\n",
      "\u001b[0;31mServerError\u001b[0m: ERREUR 404, b\"Salted__\\xcak\\xf5\\xde\\xdc\\xbeF\\xbb\\x14\\xa2\\xaf\\xe9\\x14\\x16\\x88c\\x87\\xb5\\xc6GF\\x98\\rG\\xd0\\xc6+W\\x82\\xc5&\\xea[!\\xb9\\xa8\\x16m\\x94 \\xb2\\xa3\\xe4z\\xda\\xbaj\\xea\\xc7CxH\\xcd9\\x9cp\\xfbUF8=,\\xac\\xa3\\xee\\xd1\\x18|\\x1e\\xca'\\xb9\""
     ]
    }
   ],
   "source": [
    "print(get_stp(K,\"bin/banks/assistant/round\"))"
   ]
  },
  {
   "cell_type": "code",
   "execution_count": null,
   "metadata": {},
   "outputs": [],
   "source": []
  },
  {
   "cell_type": "code",
   "execution_count": null,
   "metadata": {},
   "outputs": [],
   "source": []
  }
 ],
 "metadata": {
  "kernelspec": {
   "display_name": "Python 3",
   "language": "python",
   "name": "python3"
  },
  "language_info": {
   "codemirror_mode": {
    "name": "ipython",
    "version": 3
   },
   "file_extension": ".py",
   "mimetype": "text/x-python",
   "name": "python",
   "nbconvert_exporter": "python",
   "pygments_lexer": "ipython3",
   "version": "3.7.3"
  }
 },
 "nbformat": 4,
 "nbformat_minor": 2
}
